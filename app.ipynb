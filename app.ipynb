{
 "cells": [
  {
   "cell_type": "code",
   "execution_count": 2,
   "metadata": {},
   "outputs": [
    {
     "name": "stdout",
     "output_type": "stream",
     "text": [
      "Keys generated and saved to private_key.pem and public_key.pem\n"
     ]
    }
   ],
   "source": [
    "import os\n",
    "from cryptography.hazmat.backends import default_backend\n",
    "from cryptography.hazmat.primitives.asymmetric import rsa\n",
    "from cryptography.hazmat.primitives import serialization\n",
    "\n",
    "def generate_keys():\n",
    "    # Generate a new RSA private key\n",
    "    private_key = rsa.generate_private_key(\n",
    "        public_exponent=65537,\n",
    "        key_size=2048,\n",
    "        backend=default_backend()\n",
    "    )\n",
    "\n",
    "    # Derive the public key from the private key\n",
    "    public_key = private_key.public_key()\n",
    "\n",
    "    # Serialize the private key\n",
    "    private_pem = private_key.private_bytes(\n",
    "        encoding=serialization.Encoding.PEM,\n",
    "        format=serialization.PrivateFormat.TraditionalOpenSSL,\n",
    "        encryption_algorithm=serialization.NoEncryption()  # No encryption for the private key\n",
    "    )\n",
    "\n",
    "    # Serialize the public key\n",
    "    public_pem = public_key.public_bytes(\n",
    "        encoding=serialization.Encoding.PEM,\n",
    "        format=serialization.PublicFormat.SubjectPublicKeyInfo\n",
    "    )\n",
    "\n",
    "    # Define the file paths\n",
    "    private_key_path = \"private_key.pem\"\n",
    "    public_key_path = \"public_key.pem\"\n",
    "\n",
    "    # Save the private key to a file\n",
    "    with open(private_key_path, \"wb\") as f:\n",
    "        f.write(private_pem)\n",
    "    \n",
    "    # Save the public key to a file\n",
    "    with open(public_key_path, \"wb\") as f:\n",
    "        f.write(public_pem)\n",
    "    \n",
    "    print(f\"Keys generated and saved to {private_key_path} and {public_key_path}\")\n",
    "\n",
    "# Call the function to generate keys\n",
    "generate_keys()\n"
   ]
  }
 ],
 "metadata": {
  "kernelspec": {
   "display_name": "Python 3",
   "language": "python",
   "name": "python3"
  },
  "language_info": {
   "codemirror_mode": {
    "name": "ipython",
    "version": 3
   },
   "file_extension": ".py",
   "mimetype": "text/x-python",
   "name": "python",
   "nbconvert_exporter": "python",
   "pygments_lexer": "ipython3",
   "version": "3.12.1"
  }
 },
 "nbformat": 4,
 "nbformat_minor": 2
}
